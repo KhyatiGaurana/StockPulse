{
  "cells": [
    {
      "cell_type": "markdown",
      "metadata": {
        "id": "view-in-github",
        "colab_type": "text"
      },
      "source": [
        "<a href=\"https://colab.research.google.com/github/KhyatiGaurana/StockPulse/blob/main/MarketAnalysis.ipynb\" target=\"_parent\"><img src=\"https://colab.research.google.com/assets/colab-badge.svg\" alt=\"Open In Colab\"/></a>"
      ]
    },
    {
      "cell_type": "code",
      "execution_count": 1,
      "metadata": {
        "collapsed": true,
        "id": "3ll_CfGZKWkp"
      },
      "outputs": [],
      "source": [
        "# !pip install transformers\n",
        "# !pip install sentencepiece\n",
        "# !pip install torch"
      ]
    },
    {
      "cell_type": "code",
      "execution_count": 2,
      "metadata": {
        "collapsed": true,
        "id": "l7ummKSZojTs"
      },
      "outputs": [],
      "source": [
        "#  import nltk\n",
        "#  nltk.download('punkt')"
      ]
    },
    {
      "cell_type": "code",
      "execution_count": 3,
      "metadata": {
        "id": "PLfPoUq7LTpi"
      },
      "outputs": [],
      "source": [
        "from transformers import PegasusTokenizer, PegasusForConditionalGeneration\n",
        "from bs4 import BeautifulSoup\n",
        "import requests"
      ]
    },
    {
      "cell_type": "code",
      "execution_count": 4,
      "metadata": {
        "colab": {
          "base_uri": "https://localhost:8080/"
        },
        "collapsed": true,
        "id": "MBc_pVnWLU0x",
        "outputId": "77ea234e-4922-46d1-aec9-bb4cd2adaed6"
      },
      "outputs": [
        {
          "output_type": "stream",
          "name": "stderr",
          "text": [
            "/usr/local/lib/python3.10/dist-packages/huggingface_hub/utils/_token.py:89: UserWarning: \n",
            "The secret `HF_TOKEN` does not exist in your Colab secrets.\n",
            "To authenticate with the Hugging Face Hub, create a token in your settings tab (https://huggingface.co/settings/tokens), set it as secret in your Google Colab and restart your session.\n",
            "You will be able to reuse this secret in all of your notebooks.\n",
            "Please note that authentication is recommended but still optional to access public models or datasets.\n",
            "  warnings.warn(\n",
            "Some weights of PegasusForConditionalGeneration were not initialized from the model checkpoint at human-centered-summarization/financial-summarization-pegasus and are newly initialized: ['model.decoder.embed_positions.weight', 'model.encoder.embed_positions.weight']\n",
            "You should probably TRAIN this model on a down-stream task to be able to use it for predictions and inference.\n"
          ]
        }
      ],
      "source": [
        "model_name=\"human-centered-summarization/financial-summarization-pegasus\"\n",
        "tokenizer=PegasusTokenizer.from_pretrained(model_name)\n",
        "model=PegasusForConditionalGeneration.from_pretrained(model_name)"
      ]
    },
    {
      "cell_type": "code",
      "execution_count": 5,
      "metadata": {
        "id": "Aw19CWSBL-hD"
      },
      "outputs": [],
      "source": [
        "stock_tickers=['HAL','POLYCAB','RELIANCE']"
      ]
    },
    {
      "cell_type": "code",
      "execution_count": 6,
      "metadata": {
        "id": "gnV4GHHEMB2E"
      },
      "outputs": [],
      "source": [
        "def search_for_stock_news(ticker):\n",
        "    stocks_url=f\"https://www.google.com/search?q=moneycontrol+news+{ticker}&tbm=nws\"\n",
        "    req=requests.get(stocks_url)\n",
        "    soup=BeautifulSoup(req.text, 'html.parser')\n",
        "    anchors=soup.find_all('a')\n",
        "    links=[link['href'] for link in anchors]\n",
        "    return links"
      ]
    },
    {
      "cell_type": "code",
      "execution_count": 7,
      "metadata": {
        "id": "c-gWxHGAMEWN"
      },
      "outputs": [],
      "source": [
        "urls={ticker:search_for_stock_news(ticker) for ticker in stock_tickers}"
      ]
    },
    {
      "cell_type": "code",
      "execution_count": 8,
      "metadata": {
        "id": "jTc-lnrEMGx7"
      },
      "outputs": [],
      "source": [
        "# urls"
      ]
    },
    {
      "cell_type": "code",
      "execution_count": 9,
      "metadata": {
        "id": "5NLYRWUBMeYO"
      },
      "outputs": [],
      "source": [
        "import re"
      ]
    },
    {
      "cell_type": "code",
      "execution_count": 10,
      "metadata": {
        "id": "5W_DT8V_Mglg"
      },
      "outputs": [],
      "source": [
        "excluded_words=['maps', 'policies', 'preferences', 'accounts', 'support', 'search']"
      ]
    },
    {
      "cell_type": "code",
      "execution_count": 11,
      "metadata": {
        "id": "uUypR73fMiQx"
      },
      "outputs": [],
      "source": [
        "def remove_unwanted_urls(urls, excluded_words):\n",
        "    value=[]\n",
        "    for url in urls:\n",
        "        if 'https://' in url and not any(word in url for word in excluded_words):\n",
        "            res=re.findall(r'(https?://\\S+)', url)[0].split('&')[0]\n",
        "            value.append(res)\n",
        "    return list(set(value))\n"
      ]
    },
    {
      "cell_type": "code",
      "execution_count": 12,
      "metadata": {
        "id": "I8mK0DTPMkLt"
      },
      "outputs": [],
      "source": [
        "# cleaned_urls={ticker: remove_unwanted_urls(urls[ticker], excluded_words) for ticker in stock_tickers}"
      ]
    },
    {
      "cell_type": "code",
      "execution_count": 13,
      "metadata": {
        "id": "qSqIFioYMquN"
      },
      "outputs": [],
      "source": [
        "from nltk.tokenize import word_tokenize\n",
        "\n",
        "def scrape_urls(urls):\n",
        "    articles = []\n",
        "    for url in urls:\n",
        "        req = requests.get(url)\n",
        "        soup = BeautifulSoup(req.text, 'html.parser')\n",
        "        paragraphs = soup.find_all('p')\n",
        "        text = ' '.join([paragraph.text for paragraph in paragraphs])\n",
        "        words = word_tokenize(text)\n",
        "        article = ' '.join(words)\n",
        "        articles.append(article)\n",
        "    return articles"
      ]
    },
    {
      "cell_type": "code",
      "execution_count": 14,
      "metadata": {
        "id": "9Bb4dUDIMwdJ"
      },
      "outputs": [],
      "source": [
        "# articles={ticker:scrape_urls(cleaned_urls[ticker]) for ticker in stock_tickers}"
      ]
    },
    {
      "cell_type": "code",
      "execution_count": 15,
      "metadata": {
        "id": "Hxh577o5a_zt"
      },
      "outputs": [],
      "source": [
        "# len(articles['HAL'][1][:350])"
      ]
    },
    {
      "cell_type": "code",
      "execution_count": 16,
      "metadata": {
        "id": "vSPdZOY_MyTH"
      },
      "outputs": [],
      "source": [
        "def summarize_articles(articles):\n",
        "    summaries=[]\n",
        "    for single_article in articles:\n",
        "        article=single_article[:350]\n",
        "        input_tokens=tokenizer.encode(article, return_tensors='pt')\n",
        "        output=model.generate(input_tokens, max_length=100, num_beams=5, early_stopping=True)\n",
        "        summary=tokenizer.decode(output[0], skip_special_tokens=True)\n",
        "        summaries.append(summary)\n",
        "    return summaries"
      ]
    },
    {
      "cell_type": "code",
      "execution_count": 17,
      "metadata": {
        "id": "swex0Q5LMz4J"
      },
      "outputs": [],
      "source": [
        "# summaries={ticker:summarize_articles(articles[ticker]) for ticker in stock_tickers}"
      ]
    },
    {
      "cell_type": "code",
      "execution_count": 18,
      "metadata": {
        "id": "18Pw4bH4NN5y"
      },
      "outputs": [],
      "source": [
        "# summaries"
      ]
    },
    {
      "cell_type": "code",
      "execution_count": 19,
      "metadata": {
        "id": "GKAQ_jHOM18c"
      },
      "outputs": [],
      "source": [
        "from transformers import pipeline\n",
        "sentiment=pipeline(\"text-classification\", model=\"mrm8488/distilroberta-finetuned-financial-news-sentiment-analysis\")"
      ]
    },
    {
      "cell_type": "code",
      "execution_count": 20,
      "metadata": {
        "id": "HYPjkTrtM_gL"
      },
      "outputs": [],
      "source": [
        "# scores={ticker:sentiment(summaries[ticker]) for ticker in stock_tickers}"
      ]
    },
    {
      "cell_type": "code",
      "execution_count": 21,
      "metadata": {
        "id": "KE9j2ZV2O2zW"
      },
      "outputs": [],
      "source": [
        "# scores"
      ]
    },
    {
      "cell_type": "code",
      "execution_count": 22,
      "metadata": {
        "id": "JM7OH-m8Ti4f"
      },
      "outputs": [],
      "source": [
        "def create_output(stock_tickers, summaries, scores, cleaned_urls):\n",
        "    output={}\n",
        "    for ticker in stock_tickers:\n",
        "        output[ticker] = []\n",
        "        for counter in range(len(summaries[ticker])):\n",
        "            curr_output=[\n",
        "                cleaned_urls[ticker][counter],\n",
        "                summaries[ticker][counter],\n",
        "                scores[ticker][counter]['label'],\n",
        "                scores[ticker][counter]['score'],\n",
        "            ]\n",
        "            output[ticker].append(curr_output)\n",
        "    return output\n"
      ]
    },
    {
      "cell_type": "code",
      "execution_count": 23,
      "metadata": {
        "id": "baOX9m9nUplV"
      },
      "outputs": [],
      "source": [
        "# final_output=create_output(stock_tickers, summaries, scores, cleaned_urls)\n",
        "# final_output"
      ]
    },
    {
      "cell_type": "code",
      "execution_count": 24,
      "metadata": {
        "id": "0PXCFdVxWN3E"
      },
      "outputs": [],
      "source": [
        "# import csv\n",
        "# with open('stockSummaries.csv', mode='w', newline='') as f:\n",
        "#     csv_writer=csv.writer(f, delimiter=',', quotechar='\"', quoting=csv.QUOTE_MINIMAL)\n",
        "#     csv_writer.writerows(final_output)"
      ]
    },
    {
      "cell_type": "code",
      "execution_count": 25,
      "metadata": {
        "id": "bEXtoWxbzp0d"
      },
      "outputs": [],
      "source": [
        "# !pip install fastapi nest-asyncio pyngrok uvicorn"
      ]
    },
    {
      "cell_type": "code",
      "execution_count": 26,
      "metadata": {
        "id": "qvbKQfrDztEe"
      },
      "outputs": [],
      "source": [
        "from fastapi import FastAPI\n",
        "from fastapi.middleware.cors import CORSMiddleware\n",
        "\n",
        "app = FastAPI()\n",
        "\n",
        "app.add_middleware(\n",
        "    CORSMiddleware,\n",
        "    allow_origins=['*'],\n",
        "    allow_credentials=True,\n",
        "    allow_methods=['*'],\n",
        "    allow_headers=['*'],\n",
        ")\n",
        "\n",
        "@app.get('/')\n",
        "async def analyze_stocks_handler():  # Get stock symbols from query parameter\n",
        "    stock_tickers = ['HAL']  # Split comma-separated symbols into a list\n",
        "    urls={ticker:search_for_stock_news(ticker) for ticker in stock_tickers}\n",
        "    excluded_words=['maps', 'policies', 'preferences', 'accounts', 'support', 'search']\n",
        "    cleaned_urls={ticker: remove_unwanted_urls(urls[ticker], excluded_words) for ticker in stock_tickers}\n",
        "    articles={ticker:scrape_urls(cleaned_urls[ticker]) for ticker in stock_tickers}\n",
        "    summaries={ticker:summarize_articles(articles[ticker]) for ticker in stock_tickers}\n",
        "    scores={ticker:sentiment(summaries[ticker]) for ticker in stock_tickers}\n",
        "    final_output=create_output(stock_tickers, summaries, scores, cleaned_urls)\n",
        "    return final_output\n",
        "\n"
      ]
    },
    {
      "cell_type": "code",
      "execution_count": 27,
      "metadata": {
        "colab": {
          "base_uri": "https://localhost:8080/"
        },
        "collapsed": true,
        "id": "IvmWXqae7uQn",
        "outputId": "39c36984-572a-45bf-a49c-094204bc4820"
      },
      "outputs": [
        {
          "output_type": "stream",
          "name": "stdout",
          "text": [
            "Enter your authtoken, which can be copied from https://dashboard.ngrok.com/auth\n",
            "··········\n",
            " * ngrok tunnel available, access with `ssh root@0.tcp.ngrok.io -p16082`\n"
          ]
        }
      ],
      "source": [
        "import getpass\n",
        "\n",
        "from pyngrok import ngrok, conf\n",
        "\n",
        "print(\"Enter your authtoken, which can be copied from https://dashboard.ngrok.com/auth\")\n",
        "conf.get_default().auth_token = getpass.getpass()\n",
        "\n",
        "# Open a TCP ngrok tunnel to the SSH server\n",
        "connection_string = ngrok.connect(\"22\", \"tcp\").public_url\n",
        "\n",
        "ssh_url, port = connection_string.strip(\"tcp://\").split(\":\")\n",
        "print(f\" * ngrok tunnel available, access with `ssh root@{ssh_url} -p{port}`\")"
      ]
    },
    {
      "cell_type": "code",
      "execution_count": null,
      "metadata": {
        "colab": {
          "base_uri": "https://localhost:8080/"
        },
        "id": "AdTuhuYl4l5Z",
        "outputId": "b1641fad-3b22-41e1-9ae1-1a39e7e4d023"
      },
      "outputs": [
        {
          "metadata": {
            "tags": null
          },
          "name": "stdout",
          "output_type": "stream",
          "text": [
            "Public URL: https://c607-34-148-177-13.ngrok-free.app\n"
          ]
        },
        {
          "metadata": {
            "tags": null
          },
          "name": "stderr",
          "output_type": "stream",
          "text": [
            "INFO:     Started server process [65929]\n",
            "INFO:     Waiting for application startup.\n",
            "INFO:     Application startup complete.\n",
            "INFO:     Uvicorn running on http://127.0.0.1:8000 (Press CTRL+C to quit)\n"
          ]
        },
        {
          "metadata": {
            "tags": null
          },
          "name": "stdout",
          "output_type": "stream",
          "text": [
            "INFO:     106.208.67.20:0 - \"GET / HTTP/1.1\" 200 OK\n",
            "INFO:     106.208.67.20:0 - \"GET /favicon.ico HTTP/1.1\" 404 Not Found\n",
            "INFO:     106.208.67.20:0 - \"OPTIONS / HTTP/1.1\" 200 OK\n",
            "INFO:     106.208.67.20:0 - \"OPTIONS / HTTP/1.1\" 200 OK\n",
            "INFO:     106.208.67.20:0 - \"GET / HTTP/1.1\" 200 OK\n"
          ]
        },
        {
          "metadata": {
            "tags": null
          },
          "name": "stderr",
          "output_type": "stream",
          "text": [
            "WARNING:pyngrok.process.ngrok:t=2024-07-06T16:25:48+0000 lvl=warn msg=\"failed to open private leg\" id=3b51eb139b0d typ=proxy privaddr=localhost:22 err=\"dial tcp 127.0.0.1:22: connect: connection refused\"\n"
          ]
        },
        {
          "metadata": {
            "tags": null
          },
          "name": "stdout",
          "output_type": "stream",
          "text": [
            "INFO:     106.208.67.20:0 - \"GET / HTTP/1.1\" 200 OK\n",
            "INFO:     106.208.67.20:0 - \"GET / HTTP/1.1\" 200 OK\n",
            "INFO:     106.208.67.20:0 - \"GET / HTTP/1.1\" 200 OK\n",
            "INFO:     106.208.67.20:0 - \"GET / HTTP/1.1\" 200 OK\n",
            "INFO:     106.208.67.20:0 - \"GET / HTTP/1.1\" 200 OK\n",
            "INFO:     106.208.67.20:0 - \"GET / HTTP/1.1\" 200 OK\n",
            "INFO:     106.208.67.20:0 - \"GET / HTTP/1.1\" 200 OK\n",
            "INFO:     106.208.67.20:0 - \"GET / HTTP/1.1\" 200 OK\n",
            "INFO:     106.208.67.20:0 - \"GET / HTTP/1.1\" 200 OK\n",
            "INFO:     106.208.67.20:0 - \"GET / HTTP/1.1\" 200 OK\n",
            "INFO:     106.208.67.20:0 - \"GET / HTTP/1.1\" 200 OK\n",
            "INFO:     106.208.67.20:0 - \"GET / HTTP/1.1\" 200 OK\n",
            "INFO:     106.208.67.20:0 - \"GET / HTTP/1.1\" 200 OK\n",
            "INFO:     106.208.67.20:0 - \"GET / HTTP/1.1\" 200 OK\n",
            "INFO:     106.208.67.20:0 - \"GET / HTTP/1.1\" 200 OK\n",
            "INFO:     106.208.67.20:0 - \"GET / HTTP/1.1\" 200 OK\n",
            "INFO:     106.208.67.20:0 - \"OPTIONS / HTTP/1.1\" 200 OK\n",
            "INFO:     106.208.67.20:0 - \"OPTIONS / HTTP/1.1\" 200 OK\n",
            "INFO:     106.208.67.20:0 - \"OPTIONS / HTTP/1.1\" 200 OK\n",
            "INFO:     106.208.67.20:0 - \"OPTIONS / HTTP/1.1\" 200 OK\n",
            "INFO:     106.208.67.20:0 - \"OPTIONS / HTTP/1.1\" 200 OK\n",
            "INFO:     106.208.67.20:0 - \"OPTIONS / HTTP/1.1\" 200 OK\n",
            "INFO:     106.208.67.20:0 - \"OPTIONS / HTTP/1.1\" 200 OK\n",
            "INFO:     106.208.67.20:0 - \"OPTIONS / HTTP/1.1\" 200 OK\n",
            "INFO:     106.208.67.20:0 - \"OPTIONS / HTTP/1.1\" 200 OK\n",
            "INFO:     106.208.67.20:0 - \"OPTIONS / HTTP/1.1\" 200 OK\n",
            "INFO:     106.208.67.20:0 - \"OPTIONS / HTTP/1.1\" 200 OK\n",
            "INFO:     106.208.67.20:0 - \"OPTIONS / HTTP/1.1\" 200 OK\n"
          ]
        }
      ],
      "source": [
        "import nest_asyncio\n",
        "from pyngrok import ngrok\n",
        "import uvicorn\n",
        "\n",
        "ngrok_tunnel = ngrok.connect(8000)\n",
        "print('Public URL:', ngrok_tunnel.public_url)\n",
        "nest_asyncio.apply()\n",
        "uvicorn.run(app, port=8000)"
      ]
    },
    {
      "cell_type": "code",
      "execution_count": null,
      "metadata": {
        "id": "wlmh-tMSJmlk"
      },
      "outputs": [],
      "source": []
    }
  ],
  "metadata": {
    "colab": {
      "provenance": [],
      "authorship_tag": "ABX9TyOByiMN5QcYzFfEN2MdJmWT",
      "include_colab_link": true
    },
    "kernelspec": {
      "display_name": "Python 3",
      "name": "python3"
    },
    "language_info": {
      "name": "python"
    }
  },
  "nbformat": 4,
  "nbformat_minor": 0
}